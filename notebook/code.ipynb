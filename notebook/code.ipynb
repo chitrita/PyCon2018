{
 "cells": [
  {
   "cell_type": "markdown",
   "metadata": {
    "colab_type": "text",
    "id": "bZGvRLypnMvG"
   },
   "source": [
    "# [Numpy To PyTorch](https://colab.research.google.com/drive/1zEFCe68fJvdJHwTo8X-dCHunxNDAIFep)\n",
    "\n",
    "\n"
   ]
  },
  {
   "cell_type": "code",
   "execution_count": 0,
   "metadata": {
    "colab": {},
    "colab_type": "code",
    "id": "Syiici9h_hi6"
   },
   "outputs": [],
   "source": [
    "import numpy as np\n",
    "import torch\n",
    "import time"
   ]
  },
  {
   "cell_type": "markdown",
   "metadata": {
    "colab_type": "text",
    "id": "y1WV1ULTteJQ"
   },
   "source": [
    "## Numpy\n"
   ]
  },
  {
   "cell_type": "markdown",
   "metadata": {
    "colab_type": "text",
    "id": "3EwmMtykvxPv"
   },
   "source": [
    "#### Numpy vs Python List"
   ]
  },
  {
   "cell_type": "code",
   "execution_count": 4,
   "metadata": {
    "colab": {
     "base_uri": "https://localhost:8080/",
     "height": 55
    },
    "colab_type": "code",
    "id": "tDWV7JqF7Cys",
    "outputId": "cd82b921-d78d-44ab-830f-433c251d8f83"
   },
   "outputs": [
    {
     "name": "stdout",
     "output_type": "stream",
     "text": [
      "<class 'numpy.ndarray'>\n"
     ]
    }
   ],
   "source": [
    "given_list = [1, 2, 3]\n",
    "new_array = np.array(given_list)\n",
    "\n",
    "print(type(new_array))\n",
    "\n",
    "# <class 'numpy.ndarray'>"
   ]
  },
  {
   "cell_type": "code",
   "execution_count": 5,
   "metadata": {
    "colab": {
     "base_uri": "https://localhost:8080/",
     "height": 72
    },
    "colab_type": "code",
    "id": "0-S7lFo0EUIY",
    "outputId": "80a503d8-a97f-4087-d77e-37827fc599ec"
   },
   "outputs": [
    {
     "name": "stdout",
     "output_type": "stream",
     "text": [
      "[27, 15, 60]\n",
      "[27 15 60]\n"
     ]
    }
   ],
   "source": [
    "given_list = [24, 12, 57]\n",
    "new_array = np.array(given_list)\n",
    "\n",
    "print([x+3 for x in given_list])\n",
    "\n",
    "print(new_array+3)"
   ]
  },
  {
   "cell_type": "code",
   "execution_count": 6,
   "metadata": {
    "colab": {
     "base_uri": "https://localhost:8080/",
     "height": 158
    },
    "colab_type": "code",
    "id": "Q06pjoURuf0A",
    "outputId": "3899e3cf-8e0b-4f6e-e712-daa3dc51ad34"
   },
   "outputs": [
    {
     "name": "stdout",
     "output_type": "stream",
     "text": [
      "[[1.14621608 1.98757359 1.64628498 ... 0.81847937 1.2301337  1.14188524]\n",
      " [1.37717482 2.64040113 2.52680352 ... 1.31106759 1.83547388 1.3020587 ]\n",
      " [0.4858669  0.96603831 1.02596539 ... 0.66230938 0.70703009 0.30740704]\n",
      " ...\n",
      " [1.56416053 2.74988515 2.79702175 ... 1.90621481 2.27962372 1.3136982 ]\n",
      " [1.36626942 2.0879698  1.80864462 ... 1.48238634 1.53634107 1.05710297]\n",
      " [0.89681003 1.82609787 1.94508328 ... 0.91342258 1.51778127 0.99043572]]\n"
     ]
    }
   ],
   "source": [
    "first_array = np.random.rand(128, 5)\n",
    "\n",
    "second_array = np.random.rand(5, 128)\n",
    "\n",
    "print(np.matmul(first_array, second_array))"
   ]
  },
  {
   "cell_type": "markdown",
   "metadata": {
    "colab_type": "text",
    "id": "t33fDftqAZPC"
   },
   "source": [
    "## PyTorch"
   ]
  },
  {
   "cell_type": "code",
   "execution_count": 7,
   "metadata": {
    "colab": {
     "base_uri": "https://localhost:8080/",
     "height": 35
    },
    "colab_type": "code",
    "id": "Mx0jDHfLDiWL",
    "outputId": "fa991a1f-1949-4807-9852-d73f14d8aede"
   },
   "outputs": [
    {
     "data": {
      "text/plain": [
       "torch.Tensor"
      ]
     },
     "execution_count": 7,
     "metadata": {
      "tags": []
     },
     "output_type": "execute_result"
    }
   ],
   "source": [
    "torch.Tensor"
   ]
  },
  {
   "cell_type": "markdown",
   "metadata": {
    "colab_type": "text",
    "id": "NOgAqGcHAwoK"
   },
   "source": [
    "#### Creation Ops"
   ]
  },
  {
   "cell_type": "code",
   "execution_count": 8,
   "metadata": {
    "colab": {
     "base_uri": "https://localhost:8080/",
     "height": 86
    },
    "colab_type": "code",
    "id": "WkAz62vhAKN7",
    "outputId": "da849744-e854-4c82-932c-49a340743aa6"
   },
   "outputs": [
    {
     "name": "stdout",
     "output_type": "stream",
     "text": [
      "[[1. 1. 1.]\n",
      " [1. 1. 1.]]\n",
      "tensor([[1., 1., 1.],\n",
      "        [1., 1., 1.]])\n"
     ]
    }
   ],
   "source": [
    "shape = (2, 3)\n",
    "print(np.ones(shape))\n",
    "print(torch.ones(shape))"
   ]
  },
  {
   "cell_type": "code",
   "execution_count": 9,
   "metadata": {
    "colab": {
     "base_uri": "https://localhost:8080/",
     "height": 121
    },
    "colab_type": "code",
    "id": "oD5scORcYKV_",
    "outputId": "160e405e-6c6e-47fb-e72f-e116ca46f43c"
   },
   "outputs": [
    {
     "name": "stdout",
     "output_type": "stream",
     "text": [
      "[[3. 2. 2.]\n",
      " [2. 3. 2.]\n",
      " [2. 2. 3.]]\n",
      "tensor([[3., 2., 2.],\n",
      "        [2., 3., 2.],\n",
      "        [2., 2., 3.]])\n"
     ]
    }
   ],
   "source": [
    "shape = (3, 3)\n",
    "x = 2 * np.ones(shape)\n",
    "y = np.eye(shape[0])\n",
    "print(x+y)\n",
    "\n",
    "x = 2 * torch.ones(shape)\n",
    "y = torch.eye(shape[0])\n",
    "print(x+y)\n",
    "\n"
   ]
  },
  {
   "cell_type": "code",
   "execution_count": 10,
   "metadata": {
    "colab": {
     "base_uri": "https://localhost:8080/",
     "height": 86
    },
    "colab_type": "code",
    "id": "NykLcMxRgcHE",
    "outputId": "8c5f24bb-7c84-404b-c6d0-cfe8cb102f94"
   },
   "outputs": [
    {
     "name": "stdout",
     "output_type": "stream",
     "text": [
      "[[1 2]\n",
      " [3 4]]\n",
      "tensor([[1, 2],\n",
      "        [3, 4]])\n"
     ]
    }
   ],
   "source": [
    "x = np.array([[1, 2], [3, 4]])\t\n",
    "print(x)\n",
    "\n",
    "x = torch.tensor([[1, 2], [3, 4]])\n",
    "print(x)"
   ]
  },
  {
   "cell_type": "markdown",
   "metadata": {
    "colab_type": "text",
    "id": "ST952tUNBExS"
   },
   "source": [
    "#### Variable Assignment"
   ]
  },
  {
   "cell_type": "markdown",
   "metadata": {
    "colab_type": "text",
    "id": "3rswg-queHM_"
   },
   "source": [
    "Numpy supports two styles:\n",
    "\n",
    "* Compute and assign to a variable using the `assignment` operator.\n",
    "* Compute and assign value using a function call"
   ]
  },
  {
   "cell_type": "code",
   "execution_count": 11,
   "metadata": {
    "colab": {
     "base_uri": "https://localhost:8080/",
     "height": 121
    },
    "colab_type": "code",
    "id": "vdRCsTj2cpCE",
    "outputId": "4a5739ef-4890-49e2-9720-9648580a0552"
   },
   "outputs": [
    {
     "name": "stdout",
     "output_type": "stream",
     "text": [
      "[[3. 2. 2.]\n",
      " [2. 3. 2.]\n",
      " [2. 2. 3.]]\n",
      "[[3. 2. 2.]\n",
      " [2. 3. 2.]\n",
      " [2. 2. 3.]]\n"
     ]
    }
   ],
   "source": [
    "shape = (3, 3)\n",
    "x = 2 * np.ones(shape)\n",
    "y = np.eye(shape[0])\n",
    "y = np.add(x, y)\n",
    "print(y)\n",
    "\n",
    "\n",
    "\n",
    "x = 2 * np.ones(shape)\n",
    "y = np.eye(shape[0])\n",
    "np.add(x, y, out=y)\n",
    "print(y)\n"
   ]
  },
  {
   "cell_type": "code",
   "execution_count": 12,
   "metadata": {
    "colab": {
     "base_uri": "https://localhost:8080/",
     "height": 121
    },
    "colab_type": "code",
    "id": "G92u1RZ8ezqO",
    "outputId": "74cb053f-7fc3-4a6e-d9e4-d645e5befb3a"
   },
   "outputs": [
    {
     "name": "stdout",
     "output_type": "stream",
     "text": [
      "tensor([[3., 2., 2.],\n",
      "        [2., 3., 2.],\n",
      "        [2., 2., 3.]])\n",
      "tensor([[3., 2., 2.],\n",
      "        [2., 3., 2.],\n",
      "        [2., 2., 3.]])\n"
     ]
    }
   ],
   "source": [
    "shape = (3, 3)\n",
    "x = 2 * torch.ones(shape)\n",
    "y = torch.eye(shape[0])\n",
    "y = torch.add(x, y)\n",
    "print(y)\n",
    "\n",
    "\n",
    "\n",
    "x = 2 * torch.ones(shape)\n",
    "y = torch.eye(shape[0])\n",
    "torch.add(x, y, out=y)\n",
    "print(y)\n"
   ]
  },
  {
   "cell_type": "markdown",
   "metadata": {
    "colab_type": "text",
    "id": "DIdyU8i5BRZ6"
   },
   "source": [
    "#### Advanced Indexing"
   ]
  },
  {
   "cell_type": "code",
   "execution_count": 13,
   "metadata": {
    "colab": {
     "base_uri": "https://localhost:8080/",
     "height": 69
    },
    "colab_type": "code",
    "id": "X20v04NKBZFD",
    "outputId": "2dc6b6b7-634a-4460-ce8c-c70c7f5f1cc9"
   },
   "outputs": [
    {
     "name": "stdout",
     "output_type": "stream",
     "text": [
      "[1 3 5]\n",
      "[[ 7 10 13]\n",
      " [21 24 27]]\n"
     ]
    }
   ],
   "source": [
    "x = np.arange(10)\n",
    "print(x[1:7:2])\n",
    "\n",
    "\n",
    "y = np.arange(35).reshape(5,7)\n",
    "print(y[1:5:2,::3])"
   ]
  },
  {
   "cell_type": "code",
   "execution_count": 14,
   "metadata": {
    "colab": {
     "base_uri": "https://localhost:8080/",
     "height": 69
    },
    "colab_type": "code",
    "id": "sNPN4p4jBecl",
    "outputId": "979d31d2-4e4e-4b20-a212-2d096a949485"
   },
   "outputs": [
    {
     "name": "stdout",
     "output_type": "stream",
     "text": [
      "tensor([1, 3, 5])\n",
      "tensor([[ 7, 10, 13],\n",
      "        [21, 24, 27]])\n"
     ]
    }
   ],
   "source": [
    "x = torch.arange(10)\n",
    "print(x[1:7:2])\n",
    "\n",
    "y = torch.arange(35).reshape(5,7)\n",
    "print(y[1:5:2,::3])"
   ]
  },
  {
   "cell_type": "code",
   "execution_count": 15,
   "metadata": {
    "colab": {
     "base_uri": "https://localhost:8080/",
     "height": 121
    },
    "colab_type": "code",
    "id": "6hFSdRrBXiJh",
    "outputId": "ded9a05b-a037-4305-cf73-199bcaaa0ecf"
   },
   "outputs": [
    {
     "name": "stdout",
     "output_type": "stream",
     "text": [
      "[[0.30984779 0.37485521 0.26480706]\n",
      " [0.09522194 0.18916697 0.7615523 ]\n",
      " [0.11044389 0.28357937 0.91886845]]\n"
     ]
    },
    {
     "data": {
      "text/plain": [
       "tensor([[0.1870, 0.0262, 0.5876],\n",
       "        [0.9313, 0.6382, 0.2628],\n",
       "        [0.3238, 0.7973, 0.1585]])"
      ]
     },
     "execution_count": 15,
     "metadata": {
      "tags": []
     },
     "output_type": "execute_result"
    }
   ],
   "source": [
    "print(np.random.random(shape))\n",
    "torch.rand(shape)"
   ]
  },
  {
   "cell_type": "code",
   "execution_count": 16,
   "metadata": {
    "colab": {
     "base_uri": "https://localhost:8080/",
     "height": 69
    },
    "colab_type": "code",
    "id": "8OSl-shkBjGW",
    "outputId": "fca3fddb-6e61-4447-cbb5-33f3318ba1c1"
   },
   "outputs": [
    {
     "name": "stdout",
     "output_type": "stream",
     "text": [
      "[7 7 4 2]\n",
      "[[9 9]\n",
      " [8 7]]\n"
     ]
    }
   ],
   "source": [
    "x = np.arange(10,1,-1)\n",
    "indexing_array = np.array([3,3,-3,8])\n",
    "print(x[indexing_array])\n",
    "\n",
    "indexing_array = np.array([[1,1],[2,3]])\n",
    "print(x[indexing_array])\n"
   ]
  },
  {
   "cell_type": "code",
   "execution_count": 17,
   "metadata": {
    "colab": {
     "base_uri": "https://localhost:8080/",
     "height": 69
    },
    "colab_type": "code",
    "id": "gtk5JrEFDyqx",
    "outputId": "725162b6-d3a6-45f1-9699-3651c1abf951"
   },
   "outputs": [
    {
     "name": "stdout",
     "output_type": "stream",
     "text": [
      "tensor([7, 7, 4, 2])\n",
      "tensor([[9, 9],\n",
      "        [8, 7]])\n"
     ]
    }
   ],
   "source": [
    "x = torch.arange(10,1,-1)\n",
    "indexing_array = torch.tensor([3,3,-3,8])\n",
    "print(x[indexing_array])\n",
    "\n",
    "\n",
    "indexing_array = torch.tensor([[1,1],[2,3]])\n",
    "print(x[indexing_array])\n"
   ]
  },
  {
   "cell_type": "markdown",
   "metadata": {
    "colab_type": "text",
    "id": "aVkqDavUDrLB"
   },
   "source": [
    "#### Other comparisons for the APIs"
   ]
  },
  {
   "cell_type": "code",
   "execution_count": 18,
   "metadata": {
    "colab": {
     "base_uri": "https://localhost:8080/",
     "height": 35
    },
    "colab_type": "code",
    "id": "9MwIOgaPBwVV",
    "outputId": "d8d823cf-8711-4edb-d53c-757212c10696"
   },
   "outputs": [
    {
     "data": {
      "text/plain": [
       "array([1000., 1000., 1000., ..., 1000., 1000., 1000.])"
      ]
     },
     "execution_count": 18,
     "metadata": {
      "tags": []
     },
     "output_type": "execute_result"
    }
   ],
   "source": [
    "shape = (2000, 1000)\n",
    "\n",
    "np_array = np.ones(shape)\n",
    "np.sum(np_array, axis=1)"
   ]
  },
  {
   "cell_type": "code",
   "execution_count": 19,
   "metadata": {
    "colab": {
     "base_uri": "https://localhost:8080/",
     "height": 35
    },
    "colab_type": "code",
    "id": "V02ewyp0CaNd",
    "outputId": "874f0ac4-aaf4-4c73-ba00-f15f4a1018d3"
   },
   "outputs": [
    {
     "data": {
      "text/plain": [
       "tensor([1000., 1000., 1000.,  ..., 1000., 1000., 1000.])"
      ]
     },
     "execution_count": 19,
     "metadata": {
      "tags": []
     },
     "output_type": "execute_result"
    }
   ],
   "source": [
    "torch_array = torch.ones(shape)\n",
    "torch.sum(torch_array, dim=1)"
   ]
  },
  {
   "cell_type": "code",
   "execution_count": 20,
   "metadata": {
    "colab": {
     "base_uri": "https://localhost:8080/",
     "height": 52
    },
    "colab_type": "code",
    "id": "XntnHzYoDw6L",
    "outputId": "70718ed7-b754-46a2-cfaa-791e4642d961"
   },
   "outputs": [
    {
     "name": "stdout",
     "output_type": "stream",
     "text": [
      "[10.  12.5 15.  17.5 20. ]\n",
      "tensor([10.0000, 12.5000, 15.0000, 17.5000, 20.0000])\n"
     ]
    }
   ],
   "source": [
    "x = np.linspace(start=10.0, stop=20, num=5)\n",
    "print(x)\n",
    "\n",
    "x = torch.linspace(start=10, end=20, steps=5)\n",
    "print(x)"
   ]
  },
  {
   "cell_type": "markdown",
   "metadata": {
    "colab_type": "text",
    "id": "po5zn9XlD7A2"
   },
   "source": [
    "#### GPU Acceleration"
   ]
  },
  {
   "cell_type": "code",
   "execution_count": 21,
   "metadata": {
    "colab": {
     "base_uri": "https://localhost:8080/",
     "height": 35
    },
    "colab_type": "code",
    "id": "24wHcSNDp_aT",
    "outputId": "3525faeb-3f5b-4c6f-ca5d-f0985fa797d7"
   },
   "outputs": [
    {
     "name": "stdout",
     "output_type": "stream",
     "text": [
      "1 loop, best of 3: 29 s per loop\n"
     ]
    }
   ],
   "source": [
    "%%timeit\n",
    "np.random.seed(1)\n",
    "n = 10000\n",
    "x = np.array(np.random.randn(n,n), dtype = np.float32)\n",
    "y = np.matmul(x, x)"
   ]
  },
  {
   "cell_type": "code",
   "execution_count": 22,
   "metadata": {
    "colab": {
     "base_uri": "https://localhost:8080/",
     "height": 35
    },
    "colab_type": "code",
    "id": "EmCfuxTsqIH0",
    "outputId": "c4f50419-2bcd-4cfc-c8b5-f11921574ec8"
   },
   "outputs": [
    {
     "name": "stdout",
     "output_type": "stream",
     "text": [
      "1 loop, best of 3: 860 ms per loop\n"
     ]
    }
   ],
   "source": [
    "%%timeit\n",
    "torch.manual_seed(1)\n",
    "n = 10000\n",
    "device = torch.device('cuda:0')\n",
    "x = torch.rand(n, n, dtype=torch.float32, device=device)\n",
    "y = torch.matmul(x, x)"
   ]
  },
  {
   "cell_type": "code",
   "execution_count": 23,
   "metadata": {
    "colab": {
     "base_uri": "https://localhost:8080/",
     "height": 35
    },
    "colab_type": "code",
    "id": "zaexjHJ2v9za",
    "outputId": "b854e6cc-6af1-49a8-bbd5-0d3706916ed7"
   },
   "outputs": [
    {
     "name": "stdout",
     "output_type": "stream",
     "text": [
      "1 loop, best of 3: 23.3 s per loop\n"
     ]
    }
   ],
   "source": [
    "%%timeit\n",
    "torch.manual_seed(1)\n",
    "n = 10000\n",
    "x = torch.rand(n, n, dtype=torch.float32)\n",
    "y = torch.matmul(x, x)"
   ]
  },
  {
   "cell_type": "markdown",
   "metadata": {
    "colab_type": "text",
    "id": "uJ3JZihKEN_g"
   },
   "source": [
    "#### PyTorch to Numpy to PyTorch"
   ]
  },
  {
   "cell_type": "code",
   "execution_count": 24,
   "metadata": {
    "colab": {
     "base_uri": "https://localhost:8080/",
     "height": 69
    },
    "colab_type": "code",
    "id": "rvqm493mtDGT",
    "outputId": "8d6e1604-f687-42d1-9c66-e21d30579250"
   },
   "outputs": [
    {
     "name": "stdout",
     "output_type": "stream",
     "text": [
      "tensor([5, 3])\n",
      "[5 3]\n",
      "Numpy -> Torch -> Numpy\n"
     ]
    }
   ],
   "source": [
    "shape = (5, 3)\n",
    "numpy_array = np.array(shape)\n",
    "torch_array = torch.from_numpy(numpy_array)\n",
    "print(torch_array)\n",
    "recreated_numpy_array = torch_array.numpy()\n",
    "print(recreated_numpy_array)\n",
    "if((recreated_numpy_array == numpy_array).all()):\n",
    "  print(\"Numpy -> Torch -> Numpy\")"
   ]
  },
  {
   "cell_type": "markdown",
   "metadata": {
    "colab_type": "text",
    "id": "l8aOvoVOEYqR"
   },
   "source": [
    "#### Tensors to GPU"
   ]
  },
  {
   "cell_type": "code",
   "execution_count": 0,
   "metadata": {
    "colab": {},
    "colab_type": "code",
    "id": "k2Q32RE5BW2B"
   },
   "outputs": [],
   "source": [
    "tensor = torch_array"
   ]
  },
  {
   "cell_type": "code",
   "execution_count": 0,
   "metadata": {
    "colab": {},
    "colab_type": "code",
    "id": "OQqp5nv9wL1q"
   },
   "outputs": [],
   "source": [
    "gpu_device = torch.device('cuda:0')\n",
    "cpu_device = torch.device('cpu')\n",
    "tensor_on_gpu = tensor.to(gpu_device)\n",
    "tensor_on_cpu = tensor.to(cpu_device)"
   ]
  },
  {
   "cell_type": "markdown",
   "metadata": {
    "colab_type": "text",
    "id": "zTSKDgv6Ebk6"
   },
   "source": [
    "## Pitfalls"
   ]
  },
  {
   "cell_type": "markdown",
   "metadata": {
    "colab_type": "text",
    "id": "sw5npKjBEptn"
   },
   "source": [
    "#### Pitfall1"
   ]
  },
  {
   "cell_type": "code",
   "execution_count": 27,
   "metadata": {
    "colab": {
     "base_uri": "https://localhost:8080/",
     "height": 35
    },
    "colab_type": "code",
    "id": "z7udb_RIBU62",
    "outputId": "f7d4fba2-9b73-451f-8f45-11290ffee77a"
   },
   "outputs": [
    {
     "name": "stdout",
     "output_type": "stream",
     "text": [
      "-100\n"
     ]
    }
   ],
   "source": [
    "numpy_array = np.array([1, 2, 3])\n",
    "torch_array = torch.from_numpy(numpy_array)\n",
    "torch_array[0] = -100\n",
    "print(numpy_array[0])"
   ]
  },
  {
   "cell_type": "code",
   "execution_count": 28,
   "metadata": {
    "colab": {
     "base_uri": "https://localhost:8080/",
     "height": 35
    },
    "colab_type": "code",
    "id": "BrWqU9PYCaSX",
    "outputId": "c3b65a20-59a4-4bf5-ad8a-87b073612f2c"
   },
   "outputs": [
    {
     "name": "stdout",
     "output_type": "stream",
     "text": [
      "1\n"
     ]
    }
   ],
   "source": [
    "numpy_array = np.array([1, 2, 3])\n",
    "torch_array = torch.Tensor(numpy_array)\n",
    "torch_array[0] = -100\n",
    "print(numpy_array[0])"
   ]
  },
  {
   "cell_type": "markdown",
   "metadata": {
    "colab_type": "text",
    "id": "7YZFAbzaEut_"
   },
   "source": [
    "#### Pitfall2"
   ]
  },
  {
   "cell_type": "code",
   "execution_count": 29,
   "metadata": {
    "colab": {
     "base_uri": "https://localhost:8080/",
     "height": 35
    },
    "colab_type": "code",
    "id": "7L5sPEi8DJwG",
    "outputId": "92eea100-e809-4a22-a7a7-8db144adabd5"
   },
   "outputs": [
    {
     "name": "stdout",
     "output_type": "stream",
     "text": [
      "1\n"
     ]
    }
   ],
   "source": [
    "numpy_array = np.array([1, 2, 3])\n",
    "torch_array = torch.from_numpy(numpy_array).to(gpu_device)\n",
    "torch_array[0] = -100\n",
    "print(numpy_array[0])"
   ]
  },
  {
   "cell_type": "markdown",
   "metadata": {
    "colab_type": "text",
    "id": "bYs424i0EzXJ"
   },
   "source": [
    "#### Pitfall3"
   ]
  },
  {
   "cell_type": "code",
   "execution_count": 30,
   "metadata": {
    "colab": {
     "base_uri": "https://localhost:8080/",
     "height": 200
    },
    "colab_type": "code",
    "id": "w3JMjwdkE8Vd",
    "outputId": "4a8a0f78-0443-4cd3-8887-1293160feaad"
   },
   "outputs": [
    {
     "ename": "TypeError",
     "evalue": "ignored",
     "output_type": "error",
     "traceback": [
      "\u001b[0;31m---------------------------------------------------------------------------\u001b[0m",
      "\u001b[0;31mTypeError\u001b[0m                                 Traceback (most recent call last)",
      "\u001b[0;32m<ipython-input-30-12c809eb4ad1>\u001b[0m in \u001b[0;36m<module>\u001b[0;34m()\u001b[0m\n\u001b[1;32m      1\u001b[0m torch_array = torch.tensor([1, 2, 3], \n\u001b[1;32m      2\u001b[0m             device = gpu_device)\n\u001b[0;32m----> 3\u001b[0;31m \u001b[0mnumpy_array\u001b[0m \u001b[0;34m=\u001b[0m \u001b[0mtorch_array\u001b[0m\u001b[0;34m.\u001b[0m\u001b[0mnumpy\u001b[0m\u001b[0;34m(\u001b[0m\u001b[0;34m)\u001b[0m\u001b[0;34m\u001b[0m\u001b[0m\n\u001b[0m",
      "\u001b[0;31mTypeError\u001b[0m: can't convert CUDA tensor to numpy. Use Tensor.cpu() to copy the tensor to host memory first."
     ]
    }
   ],
   "source": [
    "torch_array = torch.tensor([1, 2, 3], \n",
    "            device = gpu_device)\n",
    "numpy_array = torch_array.numpy()"
   ]
  },
  {
   "cell_type": "code",
   "execution_count": 31,
   "metadata": {
    "colab": {
     "base_uri": "https://localhost:8080/",
     "height": 131
    },
    "colab_type": "code",
    "id": "NQSOkmwIFCRM",
    "outputId": "edf6bcc6-3a71-41ee-cd48-fc76db35658d"
   },
   "outputs": [
    {
     "ename": "IndentationError",
     "evalue": "ignored",
     "output_type": "error",
     "traceback": [
      "\u001b[0;36m  File \u001b[0;32m\"<ipython-input-31-eb25a08989af>\"\u001b[0;36m, line \u001b[0;32m5\u001b[0m\n\u001b[0;31m    .to(cpu_device)\u001b[0m\n\u001b[0m    ^\u001b[0m\n\u001b[0;31mIndentationError\u001b[0m\u001b[0;31m:\u001b[0m unexpected indent\n"
     ]
    }
   ],
   "source": [
    "torch_array = torch.tensor([1, 2, 3], \n",
    "                device = gpu_device)\n",
    "\n",
    "numpy_array = torch_array\n",
    "            .to(cpu_device)\n",
    "            .numpy()\n"
   ]
  },
  {
   "cell_type": "code",
   "execution_count": 32,
   "metadata": {
    "colab": {
     "base_uri": "https://localhost:8080/",
     "height": 570
    },
    "colab_type": "code",
    "id": "Su7m3TqADfQd",
    "outputId": "3119365c-3bdf-449d-b3b2-097afd3f18e8"
   },
   "outputs": [
    {
     "data": {
      "text/plain": [
       "array([498.59712162, 502.52849752, 503.57117359, 488.07623026,\n",
       "       495.6646413 , 501.18841552, 502.73261359, 504.21015344,\n",
       "       501.86042666, 499.5747481 , 483.84437326, 481.45765204,\n",
       "       491.02671955, 482.9447564 , 509.91074875, 503.39466817,\n",
       "       496.14817687, 509.15691603, 491.87977037, 490.99489233,\n",
       "       499.15861804, 487.3149828 , 506.962333  , 498.32899877,\n",
       "       519.03384374, 502.41867744, 506.09145746, 519.36073811,\n",
       "       493.244471  , 500.05835267, 490.06825235, 494.46028917,\n",
       "       503.26328107, 501.25197965, 508.68742517, 514.95956824,\n",
       "       521.2921211 , 496.51557246, 498.04266599, 508.44416484,\n",
       "       509.1711359 , 478.82011639, 504.85985054, 490.21507097,\n",
       "       499.46736878, 524.60855069, 500.02714249, 512.29558163,\n",
       "       502.07606393, 497.8230504 , 500.8593151 , 488.50639928,\n",
       "       504.7286064 , 502.86484579, 498.23609011, 511.69882821,\n",
       "       504.23075273, 512.16885496, 491.89449766, 496.84376843,\n",
       "       502.33907818, 516.2477405 , 502.16443656, 505.39996406,\n",
       "       490.19242331, 512.63794612, 499.74999987, 499.1022014 ,\n",
       "       502.58554766, 507.40975013, 497.84605395, 501.4238301 ,\n",
       "       495.33024065, 500.40737249, 494.68165447, 502.56517216,\n",
       "       507.24752445, 475.3198302 , 490.68972528, 496.04986353,\n",
       "       487.48407952, 517.57266527, 503.03728608, 502.12876388,\n",
       "       480.13451861, 509.95604448, 491.79212749, 495.62045963,\n",
       "       503.92845225, 503.88169354, 495.73011105, 493.87849392,\n",
       "       487.38705573, 503.02681419, 504.84295737, 500.62651625,\n",
       "       500.60303453, 489.99515902, 509.559676  , 483.72110276,\n",
       "       511.77761332, 485.44093909, 495.79816309, 493.71850697,\n",
       "       513.5217938 , 492.57733115, 493.72782342, 492.12947812,\n",
       "       502.95766563, 503.28058837, 495.32478734, 499.75906194,\n",
       "       495.34034223, 512.32393363, 505.14868806, 499.22313741,\n",
       "       494.7618941 , 482.17552851, 489.79058029, 487.40383174,\n",
       "       500.18445541, 514.81150132, 505.59146184, 509.22661368,\n",
       "       502.22901128, 495.67435816, 480.2240037 , 493.42428088])"
      ]
     },
     "execution_count": 32,
     "metadata": {
      "tags": []
     },
     "output_type": "execute_result"
    }
   ],
   "source": [
    "shape = (128, 1000)\n",
    "np_array = np.random.random(shape)\n",
    "np.sum(np_array, axis=1)"
   ]
  },
  {
   "cell_type": "code",
   "execution_count": 33,
   "metadata": {
    "colab": {
     "base_uri": "https://localhost:8080/",
     "height": 345
    },
    "colab_type": "code",
    "id": "k-quo5HdFdy2",
    "outputId": "e707ad10-457c-422a-b29f-0abccb96e5f4"
   },
   "outputs": [
    {
     "data": {
      "text/plain": [
       "tensor([492.3059, 494.1634, 497.9210, 513.8610, 481.6728, 496.2572, 491.1049,\n",
       "        499.0293, 501.8353, 501.8107, 488.3193, 484.0969, 502.3377, 505.6399,\n",
       "        505.1918, 499.3962, 491.9419, 498.9113, 495.9724, 501.9955, 511.6537,\n",
       "        499.5494, 495.1823, 493.0666, 500.8804, 497.6123, 509.1573, 510.7198,\n",
       "        498.3613, 498.5643, 509.0970, 495.3907, 505.9768, 489.7607, 502.9781,\n",
       "        491.3438, 509.1869, 501.3050, 489.1332, 482.0582, 503.9869, 489.8748,\n",
       "        507.7838, 512.3679, 503.4282, 478.4197, 509.6520, 487.4262, 507.8362,\n",
       "        505.2957, 497.6619, 499.1406, 506.4666, 493.7106, 484.3940, 498.6255,\n",
       "        507.9043, 500.8365, 498.8157, 505.2602, 495.7344, 501.3155, 510.9013,\n",
       "        495.9234, 505.2554, 494.4229, 519.5248, 506.7155, 488.7425, 496.3576,\n",
       "        496.3604, 511.3221, 505.2527, 506.4363, 502.2169, 508.3695, 514.0903,\n",
       "        482.9781, 508.0064, 505.3618, 488.0728, 500.7408, 487.0506, 504.9445,\n",
       "        489.9784, 496.4337, 507.2312, 506.5978, 502.0357, 490.7647, 517.3200,\n",
       "        482.3507, 507.0240, 497.7324, 494.9421, 498.1074, 492.7851, 504.1136,\n",
       "        493.5891, 496.3753, 498.6391, 509.7771, 500.0313, 515.2452, 506.2283,\n",
       "        503.0292, 493.8932, 499.8261, 499.1005, 504.7088, 498.7352, 510.3496,\n",
       "        497.5545, 494.7366, 502.9202, 499.0169, 503.1243, 496.9809, 492.3491,\n",
       "        496.5404, 493.9608, 503.1400, 504.4873, 492.0404, 494.0301, 494.2773,\n",
       "        503.1441, 501.2573])"
      ]
     },
     "execution_count": 33,
     "metadata": {
      "tags": []
     },
     "output_type": "execute_result"
    }
   ],
   "source": [
    "shape = (128, 1000)\n",
    "torch_array = torch.rand(shape)\n",
    "torch.sum(torch_array, dim=1)"
   ]
  },
  {
   "cell_type": "markdown",
   "metadata": {
    "colab_type": "text",
    "id": "A-5Cl5ikJ519"
   },
   "source": [
    "## More Indexing Examples"
   ]
  },
  {
   "cell_type": "code",
   "execution_count": 34,
   "metadata": {
    "colab": {
     "base_uri": "https://localhost:8080/",
     "height": 190
    },
    "colab_type": "code",
    "id": "wg2kInbpF0l0",
    "outputId": "8c6fc86f-131a-481f-a8e2-b139beba4390"
   },
   "outputs": [
    {
     "name": "stdout",
     "output_type": "stream",
     "text": [
      "[2 3 4]\n",
      "[0 1 2]\n",
      "[1 3 5]\n",
      "[[ 0  1  2  3  4  5  6]\n",
      " [ 7  8  9 10 11 12 13]\n",
      " [14 15 16 17 18 19 20]\n",
      " [21 22 23 24 25 26 27]\n",
      " [28 29 30 31 32 33 34]]\n",
      "[[ 7 10 13]\n",
      " [21 24 27]]\n"
     ]
    }
   ],
   "source": [
    "x = np.arange(10)\n",
    "print(x[2:5])\n",
    "print(x[:-7])\n",
    "print(x[1:7:2])\n",
    "y = np.arange(35).reshape(5,7)\n",
    "print(y)\n",
    "print(y[1:5:2,::3])"
   ]
  },
  {
   "cell_type": "code",
   "execution_count": 35,
   "metadata": {
    "colab": {
     "base_uri": "https://localhost:8080/",
     "height": 190
    },
    "colab_type": "code",
    "id": "BfmioM01IU8C",
    "outputId": "a86206b0-0b84-4d9c-d90a-f73a901adcc9"
   },
   "outputs": [
    {
     "name": "stdout",
     "output_type": "stream",
     "text": [
      "tensor([2, 3, 4])\n",
      "tensor([0, 1, 2])\n",
      "tensor([1, 3, 5])\n",
      "tensor([[ 0,  1,  2,  3,  4,  5,  6],\n",
      "        [ 7,  8,  9, 10, 11, 12, 13],\n",
      "        [14, 15, 16, 17, 18, 19, 20],\n",
      "        [21, 22, 23, 24, 25, 26, 27],\n",
      "        [28, 29, 30, 31, 32, 33, 34]])\n",
      "tensor([[ 7, 10, 13],\n",
      "        [21, 24, 27]])\n"
     ]
    }
   ],
   "source": [
    "x = torch.arange(10)\n",
    "print(x[2:5])\n",
    "print(x[:-7])\n",
    "print(x[1:7:2])\n",
    "y = torch.arange(35).reshape(5,7)\n",
    "print(y)\n",
    "print(y[1:5:2,::3])"
   ]
  },
  {
   "cell_type": "code",
   "execution_count": 36,
   "metadata": {
    "colab": {
     "base_uri": "https://localhost:8080/",
     "height": 104
    },
    "colab_type": "code",
    "id": "QwiImeSZIfSD",
    "outputId": "9db4b650-9371-43c5-a46d-29db0133ad13"
   },
   "outputs": [
    {
     "name": "stdout",
     "output_type": "stream",
     "text": [
      "[10  9  8  7  6  5  4  3  2]\n",
      "[7 7 9 2]\n",
      "[7 7 4 2]\n",
      "[[9 9]\n",
      " [8 7]]\n"
     ]
    }
   ],
   "source": [
    "x = np.arange(10,1,-1)\n",
    "print(x)\n",
    "indexing_array = np.array([3, 3, 1, 8])\n",
    "print(x[indexing_array])\n",
    "indexing_array = [np.array([3,3,-3,8])]\n",
    "print(x[indexing_array])\n",
    "indexing_array = np.array([[1,1],[2,3]])\n",
    "print(x[indexing_array])"
   ]
  },
  {
   "cell_type": "code",
   "execution_count": 37,
   "metadata": {
    "colab": {
     "base_uri": "https://localhost:8080/",
     "height": 104
    },
    "colab_type": "code",
    "id": "W3trSUduJ8GZ",
    "outputId": "2889def2-086c-48e6-8a67-6447dd23bfb9"
   },
   "outputs": [
    {
     "name": "stdout",
     "output_type": "stream",
     "text": [
      "tensor([10,  9,  8,  7,  6,  5,  4,  3,  2])\n",
      "tensor([7, 7, 9, 2])\n",
      "tensor([7, 7, 4, 2])\n",
      "tensor([[9, 9],\n",
      "        [8, 7]])\n"
     ]
    }
   ],
   "source": [
    "x = torch.arange(10,1,-1)\n",
    "print(x)\n",
    "indexing_array = torch.tensor([3, 3, 1, 8])\n",
    "print(x[indexing_array])\n",
    "indexing_array = [torch.tensor([3,3,-3,8])]\n",
    "print(x[indexing_array])\n",
    "indexing_array = torch.tensor([[1,1],[2,3]])\n",
    "print(x[indexing_array])\n"
   ]
  },
  {
   "cell_type": "code",
   "execution_count": 38,
   "metadata": {
    "colab": {
     "base_uri": "https://localhost:8080/",
     "height": 69
    },
    "colab_type": "code",
    "id": "XyPRt5uVJ_Yj",
    "outputId": "1a93764d-201d-40a6-c063-5cdfd012ae4f"
   },
   "outputs": [
    {
     "name": "stdout",
     "output_type": "stream",
     "text": [
      "[7 7 4 2]\n",
      "[[9 9]\n",
      " [8 7]]\n"
     ]
    }
   ],
   "source": [
    "x = np.arange(10,1,-1)\n",
    "indexing_array = np.array([3,3,-3,8])\n",
    "print(x[indexing_array])\n",
    "\n",
    "indexing_array = np.array([[1,1],[2,3]])\n",
    "print(x[indexing_array])\n"
   ]
  },
  {
   "cell_type": "code",
   "execution_count": 39,
   "metadata": {
    "colab": {
     "base_uri": "https://localhost:8080/",
     "height": 69
    },
    "colab_type": "code",
    "id": "CX89zBeQKRba",
    "outputId": "75cb0c3e-a103-42bc-c9e3-79decc7c6b66"
   },
   "outputs": [
    {
     "name": "stdout",
     "output_type": "stream",
     "text": [
      "tensor([7, 7, 4, 2])\n",
      "tensor([[9, 9],\n",
      "        [8, 7]])\n"
     ]
    }
   ],
   "source": [
    "x = torch.arange(10,1,-1)\n",
    "indexing_array = torch.tensor([3,3,-3,8])\n",
    "print(x[indexing_array])\n",
    "# [7 7 4 2]\n",
    "\n",
    "\n",
    "indexing_array = torch.tensor([[1,1],[2,3]])\n",
    "print(x[indexing_array])\n",
    "# [[9 9]\n",
    "# [8 7]]\n"
   ]
  },
  {
   "cell_type": "code",
   "execution_count": 40,
   "metadata": {
    "colab": {
     "base_uri": "https://localhost:8080/",
     "height": 86
    },
    "colab_type": "code",
    "id": "zB2PSqdaKl_6",
    "outputId": "e23acb2e-ad1f-4779-c9dd-8a0d2c4bd639"
   },
   "outputs": [
    {
     "name": "stdout",
     "output_type": "stream",
     "text": [
      "[[1. 1. 1.]\n",
      " [1. 1. 1.]]\n",
      "tensor([[1., 1., 1.],\n",
      "        [1., 1., 1.]])\n"
     ]
    }
   ],
   "source": [
    "shape = (2, 3)\n",
    "print(np.ones(shape))\n",
    "print(torch.ones(shape))\n",
    "# [[1. 1. 1.]\n",
    "# [1. 1. 1.]]"
   ]
  },
  {
   "cell_type": "code",
   "execution_count": 0,
   "metadata": {
    "colab": {},
    "colab_type": "code",
    "id": "F5uZ6RAcTbvJ"
   },
   "outputs": [],
   "source": []
  }
 ],
 "metadata": {
  "accelerator": "GPU",
  "colab": {
   "collapsed_sections": [],
   "name": "PyConCA2018.ipynb",
   "provenance": [],
   "toc_visible": true,
   "version": "0.3.2"
  },
  "kernelspec": {
   "display_name": "Python 3",
   "language": "python",
   "name": "python3"
  },
  "language_info": {
   "codemirror_mode": {
    "name": "ipython",
    "version": 3
   },
   "file_extension": ".py",
   "mimetype": "text/x-python",
   "name": "python",
   "nbconvert_exporter": "python",
   "pygments_lexer": "ipython3",
   "version": "3.7.0"
  }
 },
 "nbformat": 4,
 "nbformat_minor": 1
}
